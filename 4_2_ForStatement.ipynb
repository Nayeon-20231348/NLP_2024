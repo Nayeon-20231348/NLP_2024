{
  "nbformat": 4,
  "nbformat_minor": 0,
  "metadata": {
    "colab": {
      "provenance": [],
      "include_colab_link": true
    },
    "kernelspec": {
      "name": "python3",
      "display_name": "Python 3"
    },
    "language_info": {
      "name": "python"
    }
  },
  "cells": [
    {
      "cell_type": "markdown",
      "metadata": {
        "id": "view-in-github",
        "colab_type": "text"
      },
      "source": [
        "<a href=\"https://colab.research.google.com/github/Nayeon-20231348/NLP_2024/blob/main/4_2_ForStatement.ipynb\" target=\"_parent\"><img src=\"https://colab.research.google.com/assets/colab-badge.svg\" alt=\"Open In Colab\"/></a>"
      ]
    },
    {
      "cell_type": "markdown",
      "source": [
        "# 🅰️ **FOR statement** 🔄 Loop  \n",
        "\"for statement\" enable you to extract each one of elements (i.e., from 1st element to the last from an object객체 or a certain range of data특정 범위의 자료).\n",
        "\n",
        "- #### <font color='red'> Example</font> from 파이썬 200제\n",
        "\n",
        "        for 구성요소 in 범위:  #list, tuple, dictionary, range\n",
        "            반복으로 실행할 코드 #e.g., 수행할 문장\n",
        "        \n",
        "          or/and  \n",
        "\n",
        "        for 아래 코드라인 변수 in 범위:\n",
        "            반복으로 실행할 코드  #e.g., 수행할 문장\n"
      ],
      "metadata": {
        "id": "4F2oj2G8OITt"
      }
    },
    {
      "cell_type": "code",
      "source": [
        "#10월 8일 (6주차)\n",
        "\n",
        "numbers = (1, 2, 3, 4, 5, 6 ,7 ,8)\n",
        "\n",
        "for i in numbers:\n",
        "  print(i)"
      ],
      "metadata": {
        "id": "ovUVvfQu4JVv",
        "outputId": "e4548e72-bf62-4fd2-f690-9eef19ccf125",
        "colab": {
          "base_uri": "https://localhost:8080/"
        }
      },
      "execution_count": null,
      "outputs": [
        {
          "output_type": "stream",
          "name": "stdout",
          "text": [
            "1\n",
            "2\n",
            "3\n",
            "4\n",
            "5\n",
            "6\n",
            "7\n",
            "8\n"
          ]
        }
      ]
    },
    {
      "cell_type": "code",
      "execution_count": null,
      "metadata": {
        "id": "j0T81ZhAm6vm",
        "outputId": "f2a970cf-228c-4493-8829-1d7c07e744d3",
        "colab": {
          "base_uri": "https://localhost:8080/"
        }
      },
      "outputs": [
        {
          "output_type": "stream",
          "name": "stdout",
          "text": [
            "1\n",
            "2\n",
            "3\n",
            "4\n",
            "5\n",
            "6\n",
            "7\n",
            "8\n",
            "9\n"
          ]
        }
      ],
      "source": [
        "numbers = (1,2,3,4,5,6,7,8,9) # numbers is assigned a tuple containing the numbers from 1 to 9, enclosed in parentheses.\n",
        "\n",
        "for i in numbers: # 'i' represents for integers. # The for loop iterates through each element (i) in the numbers tuple.\n",
        "  print(i) # Inside the loop, the print(i) statement prints each individual integer from the numbers tuple on separate lines."
      ]
    },
    {
      "cell_type": "code",
      "source": [
        "#10월 8일 (6주차)\n",
        "\n",
        "scope = [1, 2, 3, 4, 5]\n",
        "\n",
        "for i in scope:\n",
        "  print(i)"
      ],
      "metadata": {
        "id": "uuuxfD6K57Bj",
        "outputId": "c4bff9ee-b14e-4061-8e39-2214af36fdd3",
        "colab": {
          "base_uri": "https://localhost:8080/"
        }
      },
      "execution_count": null,
      "outputs": [
        {
          "output_type": "stream",
          "name": "stdout",
          "text": [
            "1\n",
            "2\n",
            "3\n",
            "4\n",
            "5\n"
          ]
        }
      ]
    },
    {
      "cell_type": "code",
      "source": [
        "#@markdown Similar exercise for a For Statement.\n",
        "\n",
        "scope = [1,2,3,4,5]\n",
        "\n",
        "for x in scope: # Any alphabet of your choice can be anything after \"for\" work.\n",
        "  print(x)"
      ],
      "metadata": {
        "id": "yg6N6sHSElwD",
        "outputId": "d7380eef-1262-4741-fbd3-b7ef1f823641",
        "colab": {
          "base_uri": "https://localhost:8080/"
        }
      },
      "execution_count": null,
      "outputs": [
        {
          "output_type": "stream",
          "name": "stdout",
          "text": [
            "1\n",
            "2\n",
            "3\n",
            "4\n",
            "5\n"
          ]
        }
      ]
    },
    {
      "cell_type": "code",
      "source": [
        "#@markdown Similar exercise for a For Statement.\n",
        "\n",
        "scope = [1,2,3,4,5]\n",
        "\n",
        "for y in scope: # An alphabet can be anything you like after 'for'.\n",
        "  print(y)"
      ],
      "metadata": {
        "id": "NdwPi8lpFMXZ",
        "outputId": "d8551c84-e290-4f7a-b039-661fcb478746",
        "colab": {
          "base_uri": "https://localhost:8080/"
        }
      },
      "execution_count": null,
      "outputs": [
        {
          "output_type": "stream",
          "name": "stdout",
          "text": [
            "1\n",
            "2\n",
            "3\n",
            "4\n",
            "5\n"
          ]
        }
      ]
    },
    {
      "cell_type": "markdown",
      "source": [
        "##<font color = 'red'> 💡🐹🐾 List of Keywords\n",
        "- Keywords are the reserved words in Python. You cannot use a keyword as a variable name, function name or any other identifier.\n",
        "- **[List of keywords](https://www.programiz.com/python-programming/keyword-list)**"
      ],
      "metadata": {
        "id": "byuI28oANeha"
      }
    },
    {
      "cell_type": "code",
      "source": [
        "#@markdown <font color='red'>**💡🐹🐾 Be cautious about using words used the list of keywords**\n",
        "\n",
        "import keyword\n",
        "keyword.kwlist"
      ],
      "metadata": {
        "colab": {
          "base_uri": "https://localhost:8080/"
        },
        "id": "ac6R6armMGGs",
        "outputId": "99eee014-a1a8-47d6-834c-317a6255470e"
      },
      "execution_count": null,
      "outputs": [
        {
          "output_type": "execute_result",
          "data": {
            "text/plain": [
              "['False',\n",
              " 'None',\n",
              " 'True',\n",
              " 'and',\n",
              " 'as',\n",
              " 'assert',\n",
              " 'async',\n",
              " 'await',\n",
              " 'break',\n",
              " 'class',\n",
              " 'continue',\n",
              " 'def',\n",
              " 'del',\n",
              " 'elif',\n",
              " 'else',\n",
              " 'except',\n",
              " 'finally',\n",
              " 'for',\n",
              " 'from',\n",
              " 'global',\n",
              " 'if',\n",
              " 'import',\n",
              " 'in',\n",
              " 'is',\n",
              " 'lambda',\n",
              " 'nonlocal',\n",
              " 'not',\n",
              " 'or',\n",
              " 'pass',\n",
              " 'raise',\n",
              " 'return',\n",
              " 'try',\n",
              " 'while',\n",
              " 'with',\n",
              " 'yield']"
            ]
          },
          "metadata": {},
          "execution_count": 4
        }
      ]
    },
    {
      "cell_type": "code",
      "source": [
        "#10월 8일 (6주차)\n",
        "\n",
        "class = ['Sam', 'Emily', 'Todd']    #class는 함수명이 존재하기 때문에 변수명으로 사용X\n",
        "\n",
        "for i in class:\n",
        "  print(i)"
      ],
      "metadata": {
        "id": "BeGF1lI87KOg",
        "outputId": "53055c69-0ccd-466b-f261-547b72248a7c",
        "colab": {
          "base_uri": "https://localhost:8080/",
          "height": 111
        }
      },
      "execution_count": null,
      "outputs": [
        {
          "output_type": "error",
          "ename": "SyntaxError",
          "evalue": "invalid syntax (<ipython-input-5-f3a8cdf6a1aa>, line 3)",
          "traceback": [
            "\u001b[0;36m  File \u001b[0;32m\"<ipython-input-5-f3a8cdf6a1aa>\"\u001b[0;36m, line \u001b[0;32m3\u001b[0m\n\u001b[0;31m    class = ['Sam', 'Emily', 'Todd']\u001b[0m\n\u001b[0m          ^\u001b[0m\n\u001b[0;31mSyntaxError\u001b[0m\u001b[0;31m:\u001b[0m invalid syntax\n"
          ]
        }
      ]
    },
    {
      "cell_type": "code",
      "source": [
        "#@markdown <font color='red'>**💀 Wrong Example**\n",
        "\n",
        "class = ['Sam', 'Emily', 'Todd']\n",
        "\n",
        "for i in class:\n",
        "  print(i)"
      ],
      "metadata": {
        "colab": {
          "base_uri": "https://localhost:8080/",
          "height": 146
        },
        "id": "dDXTjujFPJQy",
        "outputId": "877831b6-edf2-4389-9921-a109b159b501"
      },
      "execution_count": null,
      "outputs": [
        {
          "output_type": "error",
          "ename": "SyntaxError",
          "evalue": "ignored",
          "traceback": [
            "\u001b[0;36m  File \u001b[0;32m\"<ipython-input-5-f4c46a73b4cd>\"\u001b[0;36m, line \u001b[0;32m3\u001b[0m\n\u001b[0;31m    class = ['Sam', 'Emily', 'Todd']\u001b[0m\n\u001b[0m          ^\u001b[0m\n\u001b[0;31mSyntaxError\u001b[0m\u001b[0;31m:\u001b[0m invalid syntax\n"
          ]
        }
      ]
    },
    {
      "cell_type": "code",
      "source": [
        "#10월 8일 (6주차)\n",
        "\n",
        "name = ['Sam', 'Emily', 'Todd']\n",
        "\n",
        "for i in name:\n",
        "  print(i)"
      ],
      "metadata": {
        "id": "B17fLkLq75nH",
        "outputId": "168536ae-a90d-4c87-fa71-69fe4a00e9ec",
        "colab": {
          "base_uri": "https://localhost:8080/"
        }
      },
      "execution_count": null,
      "outputs": [
        {
          "output_type": "stream",
          "name": "stdout",
          "text": [
            "Sam\n",
            "Emily\n",
            "Todd\n"
          ]
        }
      ]
    },
    {
      "cell_type": "code",
      "source": [
        "#@markdown <font color='brown'>**💊 Fix this!**\n",
        "\n",
        "name = ['Sam', 'Emily', 'Todd']\n",
        "\n",
        "for i in name:\n",
        "  print(i)"
      ],
      "metadata": {
        "colab": {
          "base_uri": "https://localhost:8080/"
        },
        "id": "2XAf1Y1fP3tZ",
        "outputId": "4268abf8-f48f-4752-9153-b8b32f58ba1d"
      },
      "execution_count": null,
      "outputs": [
        {
          "output_type": "stream",
          "name": "stdout",
          "text": [
            "Sam\n",
            "Emily\n",
            "Todd\n"
          ]
        }
      ]
    },
    {
      "cell_type": "markdown",
      "source": [
        "##👀 Before you run the following code lines for a FOR Statement, you need to know the following.\n",
        "\n",
        "💊 Objects객체 used in FOR statements are i) string, ii) list or tuple, iii) dictionary, iv) range(). They are characterized by repeatable objects.  \n",
        "\n",
        "    The results depend on the number in (range 범위).\n",
        "    e.g., range(0) ➡️  NONE, range(1) ➡️ 0, range(2) ➡️ 0,1, etc.  \n",
        "\n"
      ],
      "metadata": {
        "id": "qkd3saTwMQxP"
      }
    },
    {
      "cell_type": "code",
      "source": [
        "#10월 8일 (6주차)\n",
        "\n",
        "for i in range(0):    #range(0)이면, 출력값이 없음(None)\n",
        "  print(i)"
      ],
      "metadata": {
        "id": "iDxfM-ty8evn"
      },
      "execution_count": null,
      "outputs": []
    },
    {
      "cell_type": "code",
      "source": [
        "#10월 8일 (6주차)\n",
        "\n",
        "for i in range(1):\n",
        "  print(i)"
      ],
      "metadata": {
        "id": "YCKqp0b2-VpM",
        "outputId": "fed70371-b4f3-4fc6-9007-b4d009f48275",
        "colab": {
          "base_uri": "https://localhost:8080/"
        }
      },
      "execution_count": null,
      "outputs": [
        {
          "output_type": "stream",
          "name": "stdout",
          "text": [
            "0\n"
          ]
        }
      ]
    },
    {
      "cell_type": "code",
      "source": [
        "#10월 8일 (6주차)\n",
        "\n",
        "for i in range(11):\n",
        "  print(i)"
      ],
      "metadata": {
        "id": "P1D0OddO-KvR",
        "outputId": "41e06f81-f8d2-4e61-cf03-411d7176bc17",
        "colab": {
          "base_uri": "https://localhost:8080/"
        }
      },
      "execution_count": null,
      "outputs": [
        {
          "output_type": "stream",
          "name": "stdout",
          "text": [
            "0\n",
            "1\n",
            "2\n",
            "3\n",
            "4\n",
            "5\n",
            "6\n",
            "7\n",
            "8\n",
            "9\n",
            "10\n"
          ]
        }
      ]
    },
    {
      "cell_type": "code",
      "source": [
        "#10월 8일 (6주차)\n",
        "\n",
        "for i in range(101):\n",
        "  print(i)"
      ],
      "metadata": {
        "colab": {
          "base_uri": "https://localhost:8080/"
        },
        "outputId": "41e60457-3215-478c-a108-9791e042a4e6",
        "collapsed": true,
        "id": "TbfjW-Bh9aFX"
      },
      "execution_count": null,
      "outputs": [
        {
          "output_type": "stream",
          "name": "stdout",
          "text": [
            "0\n",
            "1\n",
            "2\n",
            "3\n",
            "4\n",
            "5\n",
            "6\n",
            "7\n",
            "8\n",
            "9\n",
            "10\n",
            "11\n",
            "12\n",
            "13\n",
            "14\n",
            "15\n",
            "16\n",
            "17\n",
            "18\n",
            "19\n",
            "20\n",
            "21\n",
            "22\n",
            "23\n",
            "24\n",
            "25\n",
            "26\n",
            "27\n",
            "28\n",
            "29\n",
            "30\n",
            "31\n",
            "32\n",
            "33\n",
            "34\n",
            "35\n",
            "36\n",
            "37\n",
            "38\n",
            "39\n",
            "40\n",
            "41\n",
            "42\n",
            "43\n",
            "44\n",
            "45\n",
            "46\n",
            "47\n",
            "48\n",
            "49\n",
            "50\n",
            "51\n",
            "52\n",
            "53\n",
            "54\n",
            "55\n",
            "56\n",
            "57\n",
            "58\n",
            "59\n",
            "60\n",
            "61\n",
            "62\n",
            "63\n",
            "64\n",
            "65\n",
            "66\n",
            "67\n",
            "68\n",
            "69\n",
            "70\n",
            "71\n",
            "72\n",
            "73\n",
            "74\n",
            "75\n",
            "76\n",
            "77\n",
            "78\n",
            "79\n",
            "80\n",
            "81\n",
            "82\n",
            "83\n",
            "84\n",
            "85\n",
            "86\n",
            "87\n",
            "88\n",
            "89\n",
            "90\n",
            "91\n",
            "92\n",
            "93\n",
            "94\n",
            "95\n",
            "96\n",
            "97\n",
            "98\n",
            "99\n",
            "100\n"
          ]
        }
      ]
    },
    {
      "cell_type": "code",
      "source": [
        "#10월 8일 (6주차)\n",
        "\n",
        "for i in range(5):\n",
        "  print(i)\n",
        "\n",
        "type(i)"
      ],
      "metadata": {
        "id": "d4effOIU-DUx",
        "outputId": "2694b46c-67cc-4092-95ba-9de86679c20b",
        "colab": {
          "base_uri": "https://localhost:8080/"
        }
      },
      "execution_count": null,
      "outputs": [
        {
          "output_type": "stream",
          "name": "stdout",
          "text": [
            "0\n",
            "1\n",
            "2\n",
            "3\n",
            "4\n"
          ]
        },
        {
          "output_type": "execute_result",
          "data": {
            "text/plain": [
              "int"
            ]
          },
          "metadata": {},
          "execution_count": 18
        }
      ]
    },
    {
      "cell_type": "code",
      "source": [
        "for i in range(1):\n",
        "  print (i)\n",
        "\n",
        "type(i)"
      ],
      "metadata": {
        "id": "0EEhWrh3nNih",
        "outputId": "7581d04d-6b08-4a26-da00-285c62484ac9",
        "colab": {
          "base_uri": "https://localhost:8080/"
        }
      },
      "execution_count": null,
      "outputs": [
        {
          "output_type": "stream",
          "name": "stdout",
          "text": [
            "0\n"
          ]
        },
        {
          "output_type": "execute_result",
          "data": {
            "text/plain": [
              "int"
            ]
          },
          "metadata": {},
          "execution_count": 6
        }
      ]
    },
    {
      "cell_type": "code",
      "source": [
        "for x in range(3):\n",
        "  print(x)\n",
        "\n",
        "type(x)"
      ],
      "metadata": {
        "colab": {
          "base_uri": "https://localhost:8080/"
        },
        "id": "0GKYmOluIMA8",
        "outputId": "7e9197f3-6dff-4d6f-dad4-633bb6de6c4b"
      },
      "execution_count": null,
      "outputs": [
        {
          "output_type": "stream",
          "name": "stdout",
          "text": [
            "0\n",
            "1\n",
            "2\n"
          ]
        },
        {
          "output_type": "execute_result",
          "data": {
            "text/plain": [
              "int"
            ]
          },
          "metadata": {},
          "execution_count": 5
        }
      ]
    },
    {
      "cell_type": "code",
      "source": [
        "for y in range(10):\n",
        "  print(y)\n",
        "\n",
        "type(y)"
      ],
      "metadata": {
        "colab": {
          "base_uri": "https://localhost:8080/"
        },
        "id": "hyWzFaQLI7y_",
        "outputId": "61e62640-8590-4676-81f9-63e863e1d0dc"
      },
      "execution_count": null,
      "outputs": [
        {
          "output_type": "stream",
          "name": "stdout",
          "text": [
            "0\n",
            "1\n",
            "2\n",
            "3\n",
            "4\n",
            "5\n",
            "6\n",
            "7\n",
            "8\n",
            "9\n"
          ]
        },
        {
          "output_type": "execute_result",
          "data": {
            "text/plain": [
              "int"
            ]
          },
          "metadata": {},
          "execution_count": 9
        }
      ]
    },
    {
      "cell_type": "code",
      "source": [
        "for z in range(0):\n",
        "  print(z)\n",
        "\n",
        "#type(y) #NameError: name 'y' is not defined"
      ],
      "metadata": {
        "id": "-k9JKHlmIZEk"
      },
      "execution_count": null,
      "outputs": []
    },
    {
      "cell_type": "code",
      "source": [
        "#10월 8일 (6주차)\n",
        "\n",
        "list_truit = ['apple', 'banana', 'grape', 'strawberry', 'pear', 'mango']\n",
        "\n",
        "for i in list_truit:\n",
        "  print(i)"
      ],
      "metadata": {
        "id": "5BTmokie-efe",
        "outputId": "b5b73c39-eb40-4a89-cebd-2042f3a34992",
        "colab": {
          "base_uri": "https://localhost:8080/"
        }
      },
      "execution_count": null,
      "outputs": [
        {
          "output_type": "stream",
          "name": "stdout",
          "text": [
            "apple\n",
            "banana\n",
            "grape\n",
            "strawberry\n",
            "pear\n",
            "mango\n"
          ]
        }
      ]
    },
    {
      "cell_type": "code",
      "source": [
        "list_fruit = [\"apple\", \"banana\", \"grape\", \"strawberry\", \"pear\", \"mango\"]\n",
        "\n",
        "for i in list_fruit:\n",
        "  print(i)"
      ],
      "metadata": {
        "id": "n-UaDN7R3aCF",
        "outputId": "59be757e-8dd9-4a02-d132-ac456378b0e9",
        "colab": {
          "base_uri": "https://localhost:8080/"
        }
      },
      "execution_count": null,
      "outputs": [
        {
          "output_type": "stream",
          "name": "stdout",
          "text": [
            "apple\n",
            "banana\n",
            "grape\n",
            "strawberry\n",
            "pear\n",
            "mango\n"
          ]
        }
      ]
    },
    {
      "cell_type": "code",
      "source": [
        "#10월 8일 (6주차)\n",
        "\n",
        "string = 'abcde'\n",
        "\n",
        "for i in string:\n",
        "  print(i)"
      ],
      "metadata": {
        "id": "HjuxSKSY_JfO",
        "outputId": "c6748180-2276-4ded-8f78-42ec3cef5943",
        "colab": {
          "base_uri": "https://localhost:8080/"
        }
      },
      "execution_count": null,
      "outputs": [
        {
          "output_type": "stream",
          "name": "stdout",
          "text": [
            "a\n",
            "b\n",
            "c\n",
            "d\n",
            "e\n"
          ]
        }
      ]
    },
    {
      "cell_type": "code",
      "source": [
        "string ='abcde'\n",
        "\n",
        "for c in string:\n",
        "  print(c)"
      ],
      "metadata": {
        "id": "d9PHvLnFPXJb",
        "outputId": "5394e0c6-7bcc-4f66-d1cb-d3a60fd64823",
        "colab": {
          "base_uri": "https://localhost:8080/"
        }
      },
      "execution_count": null,
      "outputs": [
        {
          "output_type": "stream",
          "name": "stdout",
          "text": [
            "a\n",
            "b\n",
            "c\n",
            "d\n",
            "e\n"
          ]
        }
      ]
    },
    {
      "cell_type": "code",
      "source": [
        "#10월 8일 (6주차)\n",
        "\n",
        "list_int = [1, 2, 3, 4, 5]\n",
        "\n",
        "for i in list_int:\n",
        "  print(i)"
      ],
      "metadata": {
        "id": "k8gQlq9y_XV_",
        "outputId": "1f277268-820d-4c66-b1d9-72cf98fef34c",
        "colab": {
          "base_uri": "https://localhost:8080/"
        }
      },
      "execution_count": null,
      "outputs": [
        {
          "output_type": "stream",
          "name": "stdout",
          "text": [
            "1\n",
            "2\n",
            "3\n",
            "4\n",
            "5\n"
          ]
        }
      ]
    },
    {
      "cell_type": "code",
      "source": [
        "list_int = [1,2,3,4,5]\n",
        "\n",
        "for c in list_int:\n",
        "  print(c)"
      ],
      "metadata": {
        "id": "OkVfgB8RQNTW",
        "outputId": "79c79224-5e6d-4d28-b910-84fd76f3931a",
        "colab": {
          "base_uri": "https://localhost:8080/"
        }
      },
      "execution_count": null,
      "outputs": [
        {
          "output_type": "stream",
          "name": "stdout",
          "text": [
            "1\n",
            "2\n",
            "3\n",
            "4\n",
            "5\n",
            "1\n",
            "[0]\n"
          ]
        }
      ]
    },
    {
      "cell_type": "code",
      "source": [
        "#10월 8일 (6주차)\n",
        "\n",
        "print(list_int[0])    #list_int의 첫 번째 값을 출력\n",
        "print([0])"
      ],
      "metadata": {
        "id": "9qLpAoXO_vkz",
        "outputId": "152a2046-a71d-436b-e6cf-d9c713c651fa",
        "colab": {
          "base_uri": "https://localhost:8080/"
        }
      },
      "execution_count": null,
      "outputs": [
        {
          "output_type": "stream",
          "name": "stdout",
          "text": [
            "1\n",
            "[0]\n"
          ]
        }
      ]
    },
    {
      "cell_type": "code",
      "source": [
        "#@markdown 💊 **Compare!**\n",
        "print(list_int[0])\n",
        "print([0])"
      ],
      "metadata": {
        "id": "ghvxdKMUKyXj",
        "outputId": "f2c2e1bc-96db-4f35-e822-3e53dbee3905",
        "colab": {
          "base_uri": "https://localhost:8080/"
        }
      },
      "execution_count": null,
      "outputs": [
        {
          "output_type": "stream",
          "name": "stdout",
          "text": [
            "1\n",
            "[0]\n"
          ]
        }
      ]
    },
    {
      "cell_type": "code",
      "source": [
        "#10월 8일 (6주차)\n",
        "\n",
        "dict1 = {'a':97, 'b':98, 'c':99}\n",
        "\n",
        "for i in dict1:\n",
        "  print(i)          #사전의 키만 출력됨"
      ],
      "metadata": {
        "id": "rQ3TOnzFQVLH",
        "outputId": "840ac31d-260e-4eb1-d00b-97a7cafb1807",
        "colab": {
          "base_uri": "https://localhost:8080/"
        }
      },
      "execution_count": null,
      "outputs": [
        {
          "output_type": "stream",
          "name": "stdout",
          "text": [
            "a\n",
            "b\n",
            "c\n"
          ]
        }
      ]
    },
    {
      "cell_type": "code",
      "source": [
        "dict1 = {'a':97, 'b':98, 'c':99}\n",
        "dict = {'a':90, 'b':8, 'c':30}\n",
        "\n",
        "print(dict1['a'])\n",
        "print(['a'])\n",
        "print(dict['b'])\n",
        "\n"
      ],
      "metadata": {
        "id": "U88LonMo79VE",
        "outputId": "601c420a-0338-47a4-b79e-9f90b7a703c1",
        "colab": {
          "base_uri": "https://localhost:8080/"
        }
      },
      "execution_count": 5,
      "outputs": [
        {
          "output_type": "stream",
          "name": "stdout",
          "text": [
            "97\n",
            "['a']\n",
            "8\n"
          ]
        }
      ]
    },
    {
      "cell_type": "code",
      "source": [
        "dict = {'a':97, 'b':98, 'c':99}\n",
        "\n",
        "for i in dict:\n",
        "  print(i)"
      ],
      "metadata": {
        "id": "NlPau0olAOBB",
        "outputId": "ed1472a0-d1d1-402d-9593-aae3ecec0db4",
        "colab": {
          "base_uri": "https://localhost:8080/"
        }
      },
      "execution_count": null,
      "outputs": [
        {
          "output_type": "stream",
          "name": "stdout",
          "text": [
            "a\n",
            "b\n",
            "c\n"
          ]
        }
      ]
    },
    {
      "cell_type": "code",
      "source": [
        "#10월 8일 (6주차)\n",
        "\n",
        "dict1 = {'a':100, 'b':200, 'c':300}\n",
        "\n",
        "for i in dict1:\n",
        "  print(i)"
      ],
      "metadata": {
        "id": "s-f83o4rAwbM",
        "outputId": "b364cc1c-0cf7-46b3-fc4b-db5238e0d330",
        "colab": {
          "base_uri": "https://localhost:8080/"
        }
      },
      "execution_count": null,
      "outputs": [
        {
          "output_type": "stream",
          "name": "stdout",
          "text": [
            "a\n",
            "b\n",
            "c\n"
          ]
        }
      ]
    },
    {
      "cell_type": "code",
      "source": [
        "dict2 = {'a':100, 'b':200, 'c':300}\n",
        "\n",
        "for i in dict2:\n",
        "  print(i)"
      ],
      "metadata": {
        "colab": {
          "base_uri": "https://localhost:8080/"
        },
        "id": "tR_8K-_UNYX2",
        "outputId": "8eb1c3fe-2d10-4db0-d92d-d5b11befd577"
      },
      "execution_count": 3,
      "outputs": [
        {
          "output_type": "stream",
          "name": "stdout",
          "text": [
            "a\n",
            "b\n",
            "c\n"
          ]
        }
      ]
    },
    {
      "cell_type": "code",
      "source": [
        "#10월 8일 (6주차)\n",
        "\n",
        "print(dict2['a'])\n",
        "print(['a'])\n",
        "print(dict['b'])"
      ],
      "metadata": {
        "id": "PF1N0Z3YBIND",
        "outputId": "76c837f8-3625-4e39-a0f1-7be61feac8b9",
        "colab": {
          "base_uri": "https://localhost:8080/"
        }
      },
      "execution_count": 4,
      "outputs": [
        {
          "output_type": "stream",
          "name": "stdout",
          "text": [
            "100\n",
            "['a']\n",
            "dict['b']\n"
          ]
        }
      ]
    },
    {
      "cell_type": "code",
      "source": [
        "#@markdown 💊 **Compare between print(dictionary['a']) & print(['a']) to print a value, not a key.**\n",
        "\n",
        "print(dict1['a'])\n",
        "print(['a'])"
      ],
      "metadata": {
        "id": "PicaMEUyLEBw",
        "outputId": "dc150bef-6782-45fc-f051-cb9e32a7c6cc",
        "colab": {
          "base_uri": "https://localhost:8080/"
        }
      },
      "execution_count": null,
      "outputs": [
        {
          "output_type": "stream",
          "name": "stdout",
          "text": [
            "100\n",
            "['a']\n"
          ]
        }
      ]
    },
    {
      "cell_type": "code",
      "source": [
        "#@markdown 💣 <font color = 'red'>**Indeces are not compatible with dictionary-type data**\n",
        "\n",
        "print(dict2[0])"
      ],
      "metadata": {
        "id": "ecRnp5N7LcYX",
        "outputId": "c67ef7b1-7511-4b9c-ece2-a9e474960735",
        "colab": {
          "base_uri": "https://localhost:8080/",
          "height": 184
        }
      },
      "execution_count": null,
      "outputs": [
        {
          "output_type": "error",
          "ename": "KeyError",
          "evalue": "0",
          "traceback": [
            "\u001b[0;31m---------------------------------------------------------------------------\u001b[0m",
            "\u001b[0;31mKeyError\u001b[0m                                  Traceback (most recent call last)",
            "\u001b[0;32m<ipython-input-6-e2d3c019e850>\u001b[0m in \u001b[0;36m<cell line: 3>\u001b[0;34m()\u001b[0m\n\u001b[1;32m      1\u001b[0m \u001b[0;31m#@markdown 💣 <font color = 'red'>**Indeces are not compatible with dictionary-type data**\u001b[0m\u001b[0;34m\u001b[0m\u001b[0;34m\u001b[0m\u001b[0m\n\u001b[1;32m      2\u001b[0m \u001b[0;34m\u001b[0m\u001b[0m\n\u001b[0;32m----> 3\u001b[0;31m \u001b[0mprint\u001b[0m\u001b[0;34m(\u001b[0m\u001b[0mdict2\u001b[0m\u001b[0;34m[\u001b[0m\u001b[0;36m0\u001b[0m\u001b[0;34m]\u001b[0m\u001b[0;34m)\u001b[0m\u001b[0;34m\u001b[0m\u001b[0;34m\u001b[0m\u001b[0m\n\u001b[0m",
            "\u001b[0;31mKeyError\u001b[0m: 0"
          ]
        }
      ]
    },
    {
      "cell_type": "code",
      "source": [
        "#10월 10일 (6주차)\n",
        "\n",
        "for i in range(10):\n",
        "  print(i)"
      ],
      "metadata": {
        "id": "ryuf-QJJGf8g",
        "outputId": "87535385-5702-4c61-ae08-db02eb14b22c",
        "colab": {
          "base_uri": "https://localhost:8080/"
        }
      },
      "execution_count": null,
      "outputs": [
        {
          "output_type": "stream",
          "name": "stdout",
          "text": [
            "0\n",
            "1\n",
            "2\n",
            "3\n",
            "4\n",
            "5\n",
            "6\n",
            "7\n",
            "8\n",
            "9\n"
          ]
        }
      ]
    },
    {
      "cell_type": "code",
      "source": [
        "for c in range(10):\n",
        "  print(c)"
      ],
      "metadata": {
        "id": "1_rjDUvqQpDk",
        "outputId": "0e258c30-bad6-48ce-87b0-eea9e3812834",
        "colab": {
          "base_uri": "https://localhost:8080/"
        }
      },
      "execution_count": null,
      "outputs": [
        {
          "output_type": "stream",
          "name": "stdout",
          "text": [
            "0\n",
            "1\n",
            "2\n",
            "3\n",
            "4\n",
            "5\n",
            "6\n",
            "7\n",
            "8\n",
            "9\n"
          ]
        }
      ]
    },
    {
      "cell_type": "markdown",
      "source": [
        "# 🅱️  FOR ~: IF ~: CONTINUE... ELSE: BREAK\n",
        "\n",
        "    for 구성요소 혹은 아래 코드라인 변수 in 범위:\n",
        "      ...\n",
        "      continue    # 다음 반복문 수행\n",
        "      ...\n",
        "      break       # for 반복문 탈출"
      ],
      "metadata": {
        "id": "t3GvOWsWQ1bi"
      }
    },
    {
      "cell_type": "code",
      "source": [
        "#10월 10일 (6주차)\n",
        "\n",
        "scope = [1, 2, 3, 4, 5]\n",
        "\n",
        "for i in scope:\n",
        "  print(i)\n",
        "  if i<3:\n",
        "    continue\n",
        "  else:\n",
        "    break"
      ],
      "metadata": {
        "id": "hn0zYhkfHFxm",
        "outputId": "20037d74-e512-439e-be3e-031c346e9401",
        "colab": {
          "base_uri": "https://localhost:8080/"
        }
      },
      "execution_count": null,
      "outputs": [
        {
          "output_type": "stream",
          "name": "stdout",
          "text": [
            "1\n",
            "2\n",
            "3\n"
          ]
        }
      ]
    },
    {
      "cell_type": "code",
      "source": [
        "scope=[1,2,3,4,5]\n",
        "\n",
        "for i in scope:\n",
        "  print(i)        #화면에 해당 정수를 출력한 후 그 수가 3 보다 작으면 그 다음 숫자를 출력하고, 3 보다 크거나 같으면 종료\n",
        "  if i<3:\n",
        "    continue      # 이 경우 continue 없이도 코드라인 작성 가능\n",
        "  else:\n",
        "    break"
      ],
      "metadata": {
        "id": "dlwhZZ_oRQaQ",
        "outputId": "df411d76-475b-4d8f-b6b3-1e509e48a8f8",
        "colab": {
          "base_uri": "https://localhost:8080/"
        }
      },
      "execution_count": null,
      "outputs": [
        {
          "output_type": "stream",
          "name": "stdout",
          "text": [
            "1\n",
            "2\n",
            "3\n"
          ]
        }
      ]
    },
    {
      "cell_type": "markdown",
      "source": [
        "#🅾️ FOR ~: ELSE ~:\n",
        "\n",
        "    for 변수 in 범위:\n",
        "      반복 실행 코드\n",
        "    else:       \n",
        "      for 구문이 모두 실행되었을 때 실행할 코드"
      ],
      "metadata": {
        "id": "znGW0EEdS7Qq"
      }
    },
    {
      "cell_type": "code",
      "source": [
        "scope = [1, 2, 3, 4, 5]\n",
        "\n",
        "for i in scope:\n",
        "  print(i)\n",
        "\n",
        "else:\n",
        "  print('Perfect')"
      ],
      "metadata": {
        "id": "fMt6skV-IXWR",
        "outputId": "f1f08f61-7c2c-4f4b-c73b-e7686acdacb7",
        "colab": {
          "base_uri": "https://localhost:8080/"
        }
      },
      "execution_count": null,
      "outputs": [
        {
          "output_type": "stream",
          "name": "stdout",
          "text": [
            "1\n",
            "2\n",
            "3\n",
            "4\n",
            "5\n",
            "Perfect\n"
          ]
        }
      ]
    },
    {
      "cell_type": "code",
      "source": [
        "scope = [1,2,3,4,5]\n",
        "\n",
        "for x in scope:\n",
        "  print(x)\n",
        "else:                 #반복문이 break에 의해 중단됨 없이 정상적으로 모두 실행되어야만 특정 코드 실행할 경우 FOR ~ ELSE 사용\n",
        "  print('Perfect')\n",
        "\n",
        "                      #파이썬200제에는 print (x) 다음에 break 코드라인이 있는데, 이것은 원소가 범위에 있을 때 결과를 보여주는게 1 개 밖에 안된다. 실수로 넣은 코드라인으로 보인다. 이 예제는 아래에 따로 코드라인을 작성했다.\n"
      ],
      "metadata": {
        "id": "hQ3XN0KKTXvh",
        "outputId": "91ffae41-5b80-4d00-a325-42538495bb87",
        "colab": {
          "base_uri": "https://localhost:8080/"
        }
      },
      "execution_count": null,
      "outputs": [
        {
          "output_type": "stream",
          "name": "stdout",
          "text": [
            "1\n",
            "2\n",
            "3\n",
            "4\n",
            "5\n",
            "Perfect\n"
          ]
        }
      ]
    },
    {
      "cell_type": "markdown",
      "source": [
        "## 💊 **Compare! (Do not use in class. Just let students know about it.**"
      ],
      "metadata": {
        "id": "UGZKjbMuQIct"
      }
    },
    {
      "cell_type": "code",
      "source": [
        "#@markdown 💀 IT seems an imperfect example from 파이썬200제.\n",
        "list = [1,2,3]\n",
        "for i in list:\n",
        "  print(i)\n",
        "  break ##파이썬200제에는 print (x) 다음에 break 코드라인이 있는데, 이것은 요소가 범위에 있을 때 결과를 보여주는게 1 개 밖에 안된다. 실수로 넣은 코드라인으로 보인다.\n",
        "else:\n",
        "  print('Perfect')\n"
      ],
      "metadata": {
        "id": "dHBVuZaLeigp",
        "outputId": "857a1fa6-269a-4d92-e29e-08924737f877",
        "colab": {
          "base_uri": "https://localhost:8080/"
        }
      },
      "execution_count": null,
      "outputs": [
        {
          "output_type": "stream",
          "name": "stdout",
          "text": [
            "1\n"
          ]
        }
      ]
    }
  ]
}