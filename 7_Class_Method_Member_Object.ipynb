{
  "nbformat": 4,
  "nbformat_minor": 0,
  "metadata": {
    "colab": {
      "provenance": [],
      "include_colab_link": true
    },
    "kernelspec": {
      "name": "python3",
      "display_name": "Python 3"
    },
    "language_info": {
      "name": "python"
    }
  },
  "cells": [
    {
      "cell_type": "markdown",
      "metadata": {
        "id": "view-in-github",
        "colab_type": "text"
      },
      "source": [
        "<a href=\"https://colab.research.google.com/github/Nayeon-20231348/NLP_2024/blob/main/7_Class_Method_Member_Object.ipynb\" target=\"_parent\"><img src=\"https://colab.research.google.com/assets/colab-badge.svg\" alt=\"Open In Colab\"/></a>"
      ]
    },
    {
      "cell_type": "markdown",
      "source": [
        "### <font color = 'orange'> ⏰  **Class, Class method, Object variable, Class variable, Class Inheritance, Global vs. Local, Class initiate**\n",
        "\n",
        "---\n",
        "1. Class (Unit 049 & Unit 05)\n",
        "  * 하나의 독립된 공간을 클래스라고 하는데, 이를 위해서는 이름을 지정하여 공간 (i.e., **class NameClass:**) 이름공간을 만든다.\n",
        "  * NameClass를 **함수처럼 호출**하여 (i.e., <font color = 'brown'> NameClass() 라고 ()를 붙여 codeline 쓰기</font>) 이를 **Instant Object**(인스턴트 객체) 혹은 Object 혹은 Instance로 만든다. 이후 해당 Instant Object (i.e., either Object or Instance (of a specific Class))는 Variable로 역할 한다.\n",
        "\n",
        "  When you refer to an \"instant object\" or \"instance object\" in the context of a class, you are talking about a specific **object** that has been created from that class. A **object** or **instance** (of a class) has their own unique data and can perform actions as defined by the class methods.\n",
        "\n",
        "    - 객체(object) or 인스턴스(instance)\n",
        "\n",
        "      - <font color = 'red'> **클래스로 만든 객체를 ‘인스턴스’라고도 한다. 그렇다면 객체와 인스턴스의 차이는 무엇일까?**  \n",
        "\n",
        "        - a = Cookie(): Class Cookie()로 만든 a는 객체(Object)이다.\n",
        "        - 인스턴스라는 말은 특정 객체(a)가 어떤 클래스(Cookie)의 객체인지를 관계 위주로 설명할 때 사용한다. a 객체는 Class Cookie()의 인스턴스(Instance)다.  \n",
        "        - <추가 설명> ‘a는 인스턴스’보다 ‘a는 객체’라는 표현이 어울리며 ‘a는 Cookie의 객체’보다 ‘a는 Cookie의 인스턴스’라는 표현이 훨씬 잘 어울린다.\n",
        "    - 📌 객체에 생성되는 객체만의 변수를 ‘객체변수’ 또는 ‘속성’\n",
        "      - a.first = 4라는 문장이 수행되면 a 객체에 객체변수 first가 생성되고 4라는 값이 저장된다. 이와 마찬가지로 a.second = 2라는 문장이 수행되면 a 객체에 객체변수 second가 생성되고 2라는 값이 저장된다.\n",
        "      - 📍클래스로 만든 객체의 객체변수는 다른 객체의 객체변수에 상관없이 독립적인 값을 유지한다.\n",
        "\n",
        "\n",
        "\n"
      ],
      "metadata": {
        "id": "3V3eF3-rqKDl"
      }
    },
    {
      "cell_type": "markdown",
      "source": [
        "### ⤵️ **For your information**\n",
        "\n",
        "- setdata 메서드에는 self, first, second 총 3개의 매개변수가 필요한데 실제로는 a.setdata(4, 2)처럼 2개의 값만 전달했다. 왜 그럴까? a.setdata(4, 2)처럼 호출하면 setdata 메서드의 첫 번째 매개변수 self에는 setdata 메서드를 호출한 객체 a가 자동으로 전달되기 때문이다.\n",
        "\n",
        "- 파이썬 메서드의 첫 번째 매개변수 이름은 관례적으로 self를 사용한다. 객체를 호출할 때 호출한 객체 자신이 전달되기 때문에 self라는 이름을 사용한 것이다. 물론 self말고 다른 이름을 사용해도 상관없다.\n",
        "\n",
        "- 메서드의 첫 번째 매개변수 self를 명시적으로 구현하는 것은 파이썬만의 독특한 특징이다. 예를 들어 자바와 같은 언어는 첫 번째 매개변수 self가 필요없다.\n",
        "\n",
        "메서드를 호출하는 또 다른 방법\n",
        "잘 사용하지는 않지만, 다음과 같이 클래스를 이용해 메서드를 호출할 수도 있다.\n",
        "\n",
        "    a = FourCal()\n",
        "    FourCal.setdata(a, 4, 2)\n",
        "\n",
        ">\n",
        "\n",
        "위와 같이 ‘클래스명.메서드’ 형태로 호출할 때는 객체 a를 첫 번째 매개변수 self에 꼭 전달해야 한다. 반면 다음처럼 ‘객체.메서드’ 형태로 호출할 때는 self를 반드시 생략해서 호출해야 한다.\n",
        "\n",
        "    a = FourCal()\n",
        "    a.setdata(4, 2)"
      ],
      "metadata": {
        "id": "SoxqBPbUtEx3"
      }
    },
    {
      "cell_type": "code",
      "source": [
        "class FourCal: # Define a class named 'FourCal'\n",
        "  def setdata(self, first, second):  # Define a method 'setdata' within the class. \"Method\" is a special name for a function defined within a class. 📌 메서드의 매개변수\n",
        "                                     # 파이썬 메서드의 첫 번째 매개변수 이름은 관례적으로 self를 사용. 📌 객체를 호출할 때 호출한 객체 자신이 전달되기 때문에 self라는 이름을 사용. 다른 이름을 사용해도 상관X.\n",
        "                                     # This method takes three parameters: 'self', 'first', and 'second'.\n",
        "                                     # 'self' is a reference to the instance of the class (the object itself). 추후 예시에서 보충 설명\n",
        "                                     # 'first' and 'second' are the values that will be stored in the instance.\n",
        "    self.first = first               # 🔫 ⬅️ Assign the 'first' parameter to an instance variable 'first'. 메서드의 수행문\n",
        "                                     # 📌 객체에 생성되는 객체만의 변수를 ‘객체변수’ 또는 ‘속성’\n",
        "                                     # This stores the 'first' value in the object. 📌 a 객체에 객체변수first가 생성되고 00 (e.g., 4)값이 저장\n",
        "\n",
        "    self.second = second             # 🔫 ⬅️ Assign the 'second' parameter to an instance variable 'second'. 메서드의 수행문\n",
        "                                     # his stores the 'second' value in the object. 📌 a 객체에 객체변수second가 생성되고 00(e.g., 2) 값이 저장"
      ],
      "metadata": {
        "id": "LIFFj0rEXKmL"
      },
      "execution_count": null,
      "outputs": []
    },
    {
      "cell_type": "code",
      "source": [
        "# 10월 31일 (9주차)\n",
        "\n",
        "class FourCal:\n",
        "  def setdata(self, first, second):\n",
        "    self.first = first\n",
        "    self.second = second"
      ],
      "metadata": {
        "id": "bfbsi8pscHOJ"
      },
      "execution_count": null,
      "outputs": []
    },
    {
      "cell_type": "code",
      "source": [
        "# Example\n",
        "class FourCal:\n",
        "  def setdata(self, first, second):\n",
        "    self.first = first\n",
        "    self.second =second\n",
        "\n",
        "#a 객체를 만들고 a 객체를 통해 setdata 메서드를 호출\n",
        "\n",
        "a = FourCal()\n",
        "b = FourCal()"
      ],
      "metadata": {
        "id": "P6-IY4Q2fkV0"
      },
      "execution_count": null,
      "outputs": []
    },
    {
      "cell_type": "code",
      "source": [
        "# 10월 31일 (9주차)\n",
        "\n",
        "class FourCal:\n",
        "  def setdata(self, first, second):\n",
        "    self.first = first\n",
        "    self.second = second\n",
        "\n",
        "a = FourCal()\n",
        "b = FourCal()"
      ],
      "metadata": {
        "id": "sx5qZofHdL6F"
      },
      "execution_count": null,
      "outputs": []
    },
    {
      "cell_type": "code",
      "source": [
        "# Continued from the above code cell\n",
        "\n",
        "a.setdata(10,20)\n",
        "b.setdata(300,400)"
      ],
      "metadata": {
        "id": "JBW0x5OsivFY"
      },
      "execution_count": null,
      "outputs": []
    },
    {
      "cell_type": "code",
      "source": [
        "# 10월 31일 (9주차)\n",
        "\n",
        "a.setdata(10, 20)\n",
        "b.setdata(300, 400)"
      ],
      "metadata": {
        "id": "5Q8V_yn7dWmX"
      },
      "execution_count": null,
      "outputs": []
    },
    {
      "cell_type": "code",
      "source": [
        "#a 객체에 객체변수 first 생성된 것을 확인하기\n",
        "a.first"
      ],
      "metadata": {
        "colab": {
          "base_uri": "https://localhost:8080/"
        },
        "id": "OYhS0oyYjMfq",
        "outputId": "af2a462d-c72b-47fe-d66a-d43c844ba715"
      },
      "execution_count": null,
      "outputs": [
        {
          "output_type": "execute_result",
          "data": {
            "text/plain": [
              "10"
            ]
          },
          "metadata": {},
          "execution_count": 66
        }
      ]
    },
    {
      "cell_type": "code",
      "source": [
        "# 10월 31일 (9주차)\n",
        "\n",
        "a.first"
      ],
      "metadata": {
        "id": "HV_Ss9Dydlvl",
        "outputId": "537489db-b820-4077-842a-65e34cab6689",
        "colab": {
          "base_uri": "https://localhost:8080/"
        }
      },
      "execution_count": null,
      "outputs": [
        {
          "output_type": "execute_result",
          "data": {
            "text/plain": [
              "10"
            ]
          },
          "metadata": {},
          "execution_count": 5
        }
      ]
    },
    {
      "cell_type": "code",
      "source": [
        "#a 객체에 객체변수 second 생성된 것을 확인하기\n",
        "a.second"
      ],
      "metadata": {
        "colab": {
          "base_uri": "https://localhost:8080/"
        },
        "id": "EacINpMAjPmJ",
        "outputId": "f4707a90-630a-4528-d3b1-7831c07b014e"
      },
      "execution_count": null,
      "outputs": [
        {
          "output_type": "execute_result",
          "data": {
            "text/plain": [
              "20"
            ]
          },
          "metadata": {},
          "execution_count": 9
        }
      ]
    },
    {
      "cell_type": "code",
      "source": [
        "# 10월 31일 (9주차)\n",
        "\n",
        "a.second"
      ],
      "metadata": {
        "id": "wcHbL4uudqEm",
        "outputId": "6b0f985e-0bf6-4f0d-c325-065eb2d1f021",
        "colab": {
          "base_uri": "https://localhost:8080/"
        }
      },
      "execution_count": null,
      "outputs": [
        {
          "output_type": "execute_result",
          "data": {
            "text/plain": [
              "20"
            ]
          },
          "metadata": {},
          "execution_count": 6
        }
      ]
    },
    {
      "cell_type": "code",
      "source": [
        "b.first"
      ],
      "metadata": {
        "colab": {
          "base_uri": "https://localhost:8080/"
        },
        "id": "tPlCOf_GkNnk",
        "outputId": "3896f393-e9d4-40cd-8e03-de65b8805589"
      },
      "execution_count": null,
      "outputs": [
        {
          "output_type": "execute_result",
          "data": {
            "text/plain": [
              "300"
            ]
          },
          "metadata": {},
          "execution_count": 10
        }
      ]
    },
    {
      "cell_type": "code",
      "source": [
        "# 10월 31일 (9주차)\n",
        "\n",
        "b.first"
      ],
      "metadata": {
        "id": "F3zcLny6dvNj",
        "outputId": "30863bd4-11ce-4046-a548-4febfcf2cca0",
        "colab": {
          "base_uri": "https://localhost:8080/"
        }
      },
      "execution_count": null,
      "outputs": [
        {
          "output_type": "execute_result",
          "data": {
            "text/plain": [
              "300"
            ]
          },
          "metadata": {},
          "execution_count": 8
        }
      ]
    },
    {
      "cell_type": "code",
      "source": [
        "b.second"
      ],
      "metadata": {
        "colab": {
          "base_uri": "https://localhost:8080/"
        },
        "id": "TDsOmm0lkbiz",
        "outputId": "2d08008f-6a1e-4fa6-806c-879e2a02672a"
      },
      "execution_count": null,
      "outputs": [
        {
          "output_type": "execute_result",
          "data": {
            "text/plain": [
              "400"
            ]
          },
          "metadata": {},
          "execution_count": 11
        }
      ]
    },
    {
      "cell_type": "code",
      "source": [
        "# 10월 31일 (9주차)\n",
        "\n",
        "b.second"
      ],
      "metadata": {
        "id": "SRUfut0jdypT",
        "outputId": "3348dab2-3b51-4230-e4cd-65b0d7827393",
        "colab": {
          "base_uri": "https://localhost:8080/"
        }
      },
      "execution_count": null,
      "outputs": [
        {
          "output_type": "execute_result",
          "data": {
            "text/plain": [
              "400"
            ]
          },
          "metadata": {},
          "execution_count": 9
        }
      ]
    },
    {
      "cell_type": "markdown",
      "source": [
        "- 🎃 a 객체의 first 값은 b 객체의 first 값에 영향받지 않고 원래 값을 유지하고 있다는 것을 확인\n",
        "- 👻 클래스로 만든 객체의 객체변수는 다른 객체의 객체변수에 상관없이 독립적인 값을 유지"
      ],
      "metadata": {
        "id": "hyJAa1cwkqWV"
      }
    },
    {
      "cell_type": "markdown",
      "source": [
        "## ⤵️ Method of FourCal Class: <font color = 'red'> **add (self)**\n",
        "\n",
        "- By including self as the first parameter, you're indicating that **_add(self)** is an instance method_, meaning it operates on instances of the class (FourCal in this case).\n",
        ">\n",
        "- <font color = 'gray'> When you call add on an instance of FourCal, Python automatically passes the instance as the first argument (self), so you can access instance variables and other methods within the class.\n",
        ">\n",
        "- Without self, the method wouldn't have access to instance variables, and it wouldn't know which instance of the class to operate on when called. Therefore, self is necessary to maintain the object-oriented nature of the class and allow methods to interact with instance-specific data."
      ],
      "metadata": {
        "id": "wadttJPWjRsa"
      }
    },
    {
      "cell_type": "code",
      "source": [
        "#클래스 만들기: 확장1 -> addition\n",
        "\n",
        "class FourCal:\n",
        "  def setdata(self, first, second):\n",
        "    self.first = first\n",
        "    self.second = second\n",
        "\n",
        "  def add(self):\n",
        "    result = self.first + self.second\n",
        "    return result"
      ],
      "metadata": {
        "id": "AOyg0-IrlGcz"
      },
      "execution_count": null,
      "outputs": []
    },
    {
      "cell_type": "code",
      "source": [
        "#객체 a, 객체변수 first, 객체변수 second 할당, add 연산\n",
        "\n",
        "a = FourCal()\n",
        "a.setdata(10,20)\n",
        "a.add()"
      ],
      "metadata": {
        "colab": {
          "base_uri": "https://localhost:8080/"
        },
        "id": "ITqdyj0al-vf",
        "outputId": "e051c44e-7ad2-4501-e424-3cdfce9b1a5b"
      },
      "execution_count": null,
      "outputs": [
        {
          "output_type": "execute_result",
          "data": {
            "text/plain": [
              "30"
            ]
          },
          "metadata": {},
          "execution_count": 2
        }
      ]
    },
    {
      "cell_type": "code",
      "source": [
        "#11월 5일 (10주차)\n",
        "\n",
        "a = FourCal()\n",
        "a.setdata(100, 200)\n",
        "a.add()"
      ],
      "metadata": {
        "id": "JV8M8WlA_TW_",
        "outputId": "df1e5ea2-d3ca-4301-c596-73146718f119",
        "colab": {
          "base_uri": "https://localhost:8080/"
        }
      },
      "execution_count": null,
      "outputs": [
        {
          "output_type": "execute_result",
          "data": {
            "text/plain": [
              "300"
            ]
          },
          "metadata": {},
          "execution_count": 5
        }
      ]
    },
    {
      "cell_type": "code",
      "source": [
        "#클래스 만들기: 확장2 -> subtraction, multiplicaton, division\n",
        "\n",
        "class FourCal:\n",
        "  def setdata(self, first, second):\n",
        "    self.first = first\n",
        "    self.second = second\n",
        "\n",
        "  def add(self):\n",
        "    result = self.first + self.second\n",
        "    return result\n",
        "\n",
        "  def sub(self):\n",
        "    result = self.first - self.second\n",
        "    return result\n",
        "\n",
        "  def mul(self):\n",
        "    result = self.first * self.second\n",
        "    return result\n",
        "\n",
        "  def div(self):\n",
        "    result = self.first / self.second\n",
        "    return result\n",
        "\n",
        "a = FourCal()\n",
        "b = FourCal()\n",
        "c = FourCal()\n",
        "\n",
        "a.setdata(10,20)\n",
        "b.setdata(300,400)\n",
        "c.setdata(123,456)"
      ],
      "metadata": {
        "id": "HKOc8pCMmja1"
      },
      "execution_count": null,
      "outputs": []
    },
    {
      "cell_type": "code",
      "source": [
        "#11월 5일 (10주차)\n",
        "\n",
        "class FourCal:\n",
        "  def setdata(self, first, second):\n",
        "    self.first = first\n",
        "    self.second = second\n",
        "\n",
        "  def add(self):\n",
        "    result = self.first + self.second\n",
        "    return result\n",
        "\n",
        "  def sub(self):\n",
        "    result = self.first - self.second\n",
        "    return result\n",
        "\n",
        "  def mul(self):\n",
        "    result = self.first * self.second\n",
        "    return result\n",
        "\n",
        "  def div(self):\n",
        "    result = self.first / self.second\n",
        "    return result\n",
        "\n",
        "a = FourCal()\n",
        "b = FourCal()\n",
        "c = FourCal()\n",
        "\n",
        "a.setdata(10, 20)\n",
        "b.setdata(300, 400)\n",
        "c.setdata(356, 679)"
      ],
      "metadata": {
        "id": "PuPG-QJrA_V_"
      },
      "execution_count": null,
      "outputs": []
    },
    {
      "cell_type": "code",
      "source": [
        "a.add()"
      ],
      "metadata": {
        "colab": {
          "base_uri": "https://localhost:8080/"
        },
        "id": "pKv_KRazn3DV",
        "outputId": "b2407386-106d-47b5-90b8-c373dca8fbcf"
      },
      "execution_count": null,
      "outputs": [
        {
          "output_type": "execute_result",
          "data": {
            "text/plain": [
              "30"
            ]
          },
          "metadata": {},
          "execution_count": 15
        }
      ]
    },
    {
      "cell_type": "code",
      "source": [
        "#11월 5일 (10주차)\n",
        "\n",
        "a.add()"
      ],
      "metadata": {
        "id": "4ZmJX70EDT8m",
        "outputId": "da63e4b3-efe3-4887-96ca-9a57c13c594a",
        "colab": {
          "base_uri": "https://localhost:8080/"
        }
      },
      "execution_count": null,
      "outputs": [
        {
          "output_type": "execute_result",
          "data": {
            "text/plain": [
              "30"
            ]
          },
          "metadata": {},
          "execution_count": 8
        }
      ]
    },
    {
      "cell_type": "code",
      "source": [
        "b.add()"
      ],
      "metadata": {
        "colab": {
          "base_uri": "https://localhost:8080/"
        },
        "id": "weDgKtFYqBIP",
        "outputId": "f3eacd2d-3500-4f62-8806-5a6439019e13"
      },
      "execution_count": null,
      "outputs": [
        {
          "output_type": "execute_result",
          "data": {
            "text/plain": [
              "700"
            ]
          },
          "metadata": {},
          "execution_count": 16
        }
      ]
    },
    {
      "cell_type": "code",
      "source": [
        "#11월 5일 (10주차)\n",
        "\n",
        "b.add()"
      ],
      "metadata": {
        "id": "5-hbPMbcDXDG",
        "outputId": "584befaf-5916-457a-d9fe-19904d108ef1",
        "colab": {
          "base_uri": "https://localhost:8080/"
        }
      },
      "execution_count": null,
      "outputs": [
        {
          "output_type": "execute_result",
          "data": {
            "text/plain": [
              "700"
            ]
          },
          "metadata": {},
          "execution_count": 9
        }
      ]
    },
    {
      "cell_type": "code",
      "source": [
        "a.sub()"
      ],
      "metadata": {
        "colab": {
          "base_uri": "https://localhost:8080/"
        },
        "id": "p9ePA6o-qWcO",
        "outputId": "134ec915-82ae-422b-bb38-b79034ac7b3b"
      },
      "execution_count": null,
      "outputs": [
        {
          "output_type": "execute_result",
          "data": {
            "text/plain": [
              "-10"
            ]
          },
          "metadata": {},
          "execution_count": 17
        }
      ]
    },
    {
      "cell_type": "code",
      "source": [
        "#11월 5일 (10주차)\n",
        "\n",
        "a.sub()"
      ],
      "metadata": {
        "id": "zISygmz-Dflf",
        "outputId": "01fbf047-c0c9-4fab-bd29-3bae4c338f06",
        "colab": {
          "base_uri": "https://localhost:8080/"
        }
      },
      "execution_count": null,
      "outputs": [
        {
          "output_type": "execute_result",
          "data": {
            "text/plain": [
              "-10"
            ]
          },
          "metadata": {},
          "execution_count": 10
        }
      ]
    },
    {
      "cell_type": "code",
      "source": [
        "b.sub()"
      ],
      "metadata": {
        "colab": {
          "base_uri": "https://localhost:8080/"
        },
        "id": "RAMY75MgqYqF",
        "outputId": "e56035f3-af49-4f85-ad87-72bbd498e868"
      },
      "execution_count": null,
      "outputs": [
        {
          "output_type": "execute_result",
          "data": {
            "text/plain": [
              "-100"
            ]
          },
          "metadata": {},
          "execution_count": 18
        }
      ]
    },
    {
      "cell_type": "code",
      "source": [
        "#11월 5일 (10주차)\n",
        "\n",
        "b.sub()"
      ],
      "metadata": {
        "id": "syc4kBC5DkI_",
        "outputId": "768e61d5-ee13-4c7c-b4c2-ba527524d37a",
        "colab": {
          "base_uri": "https://localhost:8080/"
        }
      },
      "execution_count": null,
      "outputs": [
        {
          "output_type": "execute_result",
          "data": {
            "text/plain": [
              "-100"
            ]
          },
          "metadata": {},
          "execution_count": 11
        }
      ]
    },
    {
      "cell_type": "code",
      "source": [
        "#11월 5일 (10주차)\n",
        "\n",
        "c.sub()"
      ],
      "metadata": {
        "id": "E4tq2guHDmig",
        "outputId": "35ad158f-d025-40a3-e144-f8db337217bb",
        "colab": {
          "base_uri": "https://localhost:8080/"
        }
      },
      "execution_count": null,
      "outputs": [
        {
          "output_type": "execute_result",
          "data": {
            "text/plain": [
              "-323"
            ]
          },
          "metadata": {},
          "execution_count": 12
        }
      ]
    },
    {
      "cell_type": "code",
      "source": [
        "a.mul()"
      ],
      "metadata": {
        "colab": {
          "base_uri": "https://localhost:8080/"
        },
        "id": "Opn0xvELqu08",
        "outputId": "4d5d8ed2-dd6d-419d-a9a2-d83c50935c51"
      },
      "execution_count": null,
      "outputs": [
        {
          "output_type": "execute_result",
          "data": {
            "text/plain": [
              "200"
            ]
          },
          "metadata": {},
          "execution_count": 19
        }
      ]
    },
    {
      "cell_type": "code",
      "source": [
        "#11월 5일 (10주차)\n",
        "\n",
        "a.mul()"
      ],
      "metadata": {
        "id": "DW1ueErHDrpI",
        "outputId": "71557984-f63c-4739-d5e5-bd9358e54a13",
        "colab": {
          "base_uri": "https://localhost:8080/"
        }
      },
      "execution_count": null,
      "outputs": [
        {
          "output_type": "execute_result",
          "data": {
            "text/plain": [
              "200"
            ]
          },
          "metadata": {},
          "execution_count": 13
        }
      ]
    },
    {
      "cell_type": "code",
      "source": [
        "b.mul()"
      ],
      "metadata": {
        "colab": {
          "base_uri": "https://localhost:8080/"
        },
        "id": "EY5OOc86qxWE",
        "outputId": "2a3101b0-c817-4d23-c579-a75b761a8e64"
      },
      "execution_count": null,
      "outputs": [
        {
          "output_type": "execute_result",
          "data": {
            "text/plain": [
              "120000"
            ]
          },
          "metadata": {},
          "execution_count": 20
        }
      ]
    },
    {
      "cell_type": "code",
      "source": [
        "#11월 5일 (10주차)\n",
        "\n",
        "b.mul()"
      ],
      "metadata": {
        "id": "wlhZykbBDuZr",
        "outputId": "167436ed-10d4-4426-886e-284845c92973",
        "colab": {
          "base_uri": "https://localhost:8080/"
        }
      },
      "execution_count": null,
      "outputs": [
        {
          "output_type": "execute_result",
          "data": {
            "text/plain": [
              "120000"
            ]
          },
          "metadata": {},
          "execution_count": 14
        }
      ]
    },
    {
      "cell_type": "code",
      "source": [
        "a.div()"
      ],
      "metadata": {
        "colab": {
          "base_uri": "https://localhost:8080/"
        },
        "id": "oWwt0GrIqzdS",
        "outputId": "497c6b4d-0874-491e-e876-4a0d5cf88649"
      },
      "execution_count": null,
      "outputs": [
        {
          "output_type": "execute_result",
          "data": {
            "text/plain": [
              "0.5"
            ]
          },
          "metadata": {},
          "execution_count": 21
        }
      ]
    },
    {
      "cell_type": "code",
      "source": [
        "#11월 5일 (10주차)\n",
        "\n",
        "a.div()"
      ],
      "metadata": {
        "id": "FtT9ERxjDw2b",
        "outputId": "21ce6dbe-5411-4aba-a9cc-d716eb22489b",
        "colab": {
          "base_uri": "https://localhost:8080/"
        }
      },
      "execution_count": null,
      "outputs": [
        {
          "output_type": "execute_result",
          "data": {
            "text/plain": [
              "0.5"
            ]
          },
          "metadata": {},
          "execution_count": 15
        }
      ]
    },
    {
      "cell_type": "code",
      "source": [
        "b.div()"
      ],
      "metadata": {
        "colab": {
          "base_uri": "https://localhost:8080/"
        },
        "id": "M1us7M4wq1lC",
        "outputId": "f189d9e4-d977-41ea-ec4a-d91b87540581"
      },
      "execution_count": null,
      "outputs": [
        {
          "output_type": "execute_result",
          "data": {
            "text/plain": [
              "0.75"
            ]
          },
          "metadata": {},
          "execution_count": 22
        }
      ]
    },
    {
      "cell_type": "code",
      "source": [
        "#11월 5일 (10주차)\n",
        "\n",
        "b.div()"
      ],
      "metadata": {
        "id": "heHHUk_LDzzi",
        "outputId": "2fb0aa0d-6ed6-42dd-bf8b-7a1a32d48b73",
        "colab": {
          "base_uri": "https://localhost:8080/"
        }
      },
      "execution_count": null,
      "outputs": [
        {
          "output_type": "execute_result",
          "data": {
            "text/plain": [
              "0.75"
            ]
          },
          "metadata": {},
          "execution_count": 17
        }
      ]
    },
    {
      "cell_type": "code",
      "source": [
        "c.div()"
      ],
      "metadata": {
        "id": "4NolxlMEowyk",
        "outputId": "a12fd0b1-525f-44f9-c717-56c3e7d0e886",
        "colab": {
          "base_uri": "https://localhost:8080/"
        }
      },
      "execution_count": null,
      "outputs": [
        {
          "output_type": "execute_result",
          "data": {
            "text/plain": [
              "0.26973684210526316"
            ]
          },
          "metadata": {},
          "execution_count": 25
        }
      ]
    },
    {
      "cell_type": "code",
      "source": [
        "#11월 5일 (10주차)\n",
        "\n",
        "c.div()"
      ],
      "metadata": {
        "id": "ezZ9_DlVD3SD",
        "outputId": "56192244-d655-434d-d941-8e1810fbe61f",
        "colab": {
          "base_uri": "https://localhost:8080/"
        }
      },
      "execution_count": null,
      "outputs": [
        {
          "output_type": "execute_result",
          "data": {
            "text/plain": [
              "0.524300441826215"
            ]
          },
          "metadata": {},
          "execution_count": 19
        }
      ]
    },
    {
      "cell_type": "code",
      "source": [
        "c_result = c.div()\n",
        "round_result = round(c_result,2)\n",
        "print(round_result)"
      ],
      "metadata": {
        "id": "5QQxUhfMo5TC",
        "outputId": "1864274c-ad15-486a-ebe0-7560e1e65a9a",
        "colab": {
          "base_uri": "https://localhost:8080/"
        }
      },
      "execution_count": null,
      "outputs": [
        {
          "output_type": "stream",
          "name": "stdout",
          "text": [
            "0.27\n"
          ]
        }
      ]
    },
    {
      "cell_type": "code",
      "source": [
        "#11월 5일 (10주차)\n",
        "\n",
        "c_result = c.div()\n",
        "round_result = round(c_result, 2)     #소수점 두 번째 자리까지 나타냄\n",
        "print(round_result)"
      ],
      "metadata": {
        "id": "blerMcAYEUYn",
        "outputId": "fdc810fd-b7c3-4cd0-be41-b44a50f3afa8",
        "colab": {
          "base_uri": "https://localhost:8080/"
        }
      },
      "execution_count": null,
      "outputs": [
        {
          "output_type": "stream",
          "name": "stdout",
          "text": [
            "0.52\n"
          ]
        }
      ]
    },
    {
      "cell_type": "markdown",
      "source": [
        "Class Inheritance\n",
        "- 기존 클래스가 라이브러리 형태로 제공되거나 수정이 허용되지 않는 상황이라면 상속을 사용\n",
        "- 아래 예시는 제곱 (power) 메소드"
      ],
      "metadata": {
        "id": "URLcwWYnPZga"
      }
    },
    {
      "cell_type": "code",
      "source": [
        "class MoreFourCal:\n",
        "  def setdata (self, first, second):\n",
        "    self.first = first\n",
        "    self.second = second\n",
        "\n",
        "  def pow(self):       #제곱값\n",
        "    result = self.first ** self.second      #**임을 주의\n",
        "    return result\n",
        "\n",
        "a = MoreFourCal()"
      ],
      "metadata": {
        "id": "2JusDACEqatM"
      },
      "execution_count": null,
      "outputs": []
    },
    {
      "cell_type": "code",
      "source": [
        "a.setdata(10,2)     #10^2\n",
        "a.pow()"
      ],
      "metadata": {
        "colab": {
          "base_uri": "https://localhost:8080/"
        },
        "id": "qx_XpWvEtOG8",
        "outputId": "0d67cdd0-66e6-4cd6-8b73-fb9a4670d7db"
      },
      "execution_count": null,
      "outputs": [
        {
          "output_type": "execute_result",
          "data": {
            "text/plain": [
              "100"
            ]
          },
          "metadata": {},
          "execution_count": 29
        }
      ]
    },
    {
      "cell_type": "code",
      "source": [
        "a.setdata(10,20)\n",
        "a.pow()"
      ],
      "metadata": {
        "id": "apt7h2iPqeaZ",
        "outputId": "25377759-baa0-44c2-a47f-b9dc2bed6185",
        "colab": {
          "base_uri": "https://localhost:8080/"
        }
      },
      "execution_count": null,
      "outputs": [
        {
          "output_type": "execute_result",
          "data": {
            "text/plain": [
              "100000000000000000000"
            ]
          },
          "metadata": {},
          "execution_count": 30
        }
      ]
    },
    {
      "cell_type": "markdown",
      "source": [
        "##📍**클래스 변수**\n",
        "- 클래스변수는 클래스 안에 변수를 선언하여 생성\n",
        "- 📍클래스변수는 객체변수와 달리 클래스로 만든 모든 객체에 공유된다"
      ],
      "metadata": {
        "id": "0KlUX6_GuaRs"
      }
    },
    {
      "cell_type": "code",
      "source": [
        "class Family:\n",
        "  lastname = 'Chandler' #클래스 변수 (클래스 안에서 선언됨)\n",
        "\n",
        "a = Family()\n",
        "b = Family()"
      ],
      "metadata": {
        "id": "waCaUOJ_ukas"
      },
      "execution_count": null,
      "outputs": []
    },
    {
      "cell_type": "code",
      "source": [
        "#11월 5일 (10주차)\n",
        "\n",
        "class Family:\n",
        "  lastname = 'Chandler'\n",
        "\n",
        "a = Family()\n",
        "b = Family()"
      ],
      "metadata": {
        "id": "6eN4BL4hGK_5"
      },
      "execution_count": null,
      "outputs": []
    },
    {
      "cell_type": "code",
      "source": [
        "a.lastname #클래스변수는 클래스이름.클래스변수로 사용\n"
      ],
      "metadata": {
        "colab": {
          "base_uri": "https://localhost:8080/",
          "height": 35
        },
        "id": "M1OyGq11wamS",
        "outputId": "673802b5-0651-4af2-d37b-8f6baa842560"
      },
      "execution_count": null,
      "outputs": [
        {
          "output_type": "execute_result",
          "data": {
            "text/plain": [
              "'Chandler'"
            ],
            "application/vnd.google.colaboratory.intrinsic+json": {
              "type": "string"
            }
          },
          "metadata": {},
          "execution_count": 56
        }
      ]
    },
    {
      "cell_type": "code",
      "source": [
        "#11월 5일 (10주차)\n",
        "\n",
        "a.lastname     #문자열은 괄호X?"
      ],
      "metadata": {
        "id": "1sk9jcJiGdbF",
        "outputId": "433f6694-fafb-44f5-e3d3-5db003c3e185",
        "colab": {
          "base_uri": "https://localhost:8080/",
          "height": 35
        }
      },
      "execution_count": null,
      "outputs": [
        {
          "output_type": "execute_result",
          "data": {
            "text/plain": [
              "'Chandler'"
            ],
            "application/vnd.google.colaboratory.intrinsic+json": {
              "type": "string"
            }
          },
          "metadata": {},
          "execution_count": 36
        }
      ]
    },
    {
      "cell_type": "code",
      "source": [
        "b.lastname"
      ],
      "metadata": {
        "colab": {
          "base_uri": "https://localhost:8080/",
          "height": 35
        },
        "id": "nAjFJCDhzeFr",
        "outputId": "dda3079e-5f36-4e77-889c-cf36b2b68caa"
      },
      "execution_count": null,
      "outputs": [
        {
          "output_type": "execute_result",
          "data": {
            "text/plain": [
              "'Chandler'"
            ],
            "application/vnd.google.colaboratory.intrinsic+json": {
              "type": "string"
            }
          },
          "metadata": {},
          "execution_count": 57
        }
      ]
    },
    {
      "cell_type": "code",
      "source": [
        "#11월 5일 (10주차)\n",
        "\n",
        "b.lastname"
      ],
      "metadata": {
        "id": "nuuVYvN5Gp__",
        "outputId": "a3e6640a-ba64-483d-ebf9-0f506707d1f6",
        "colab": {
          "base_uri": "https://localhost:8080/",
          "height": 35
        }
      },
      "execution_count": null,
      "outputs": [
        {
          "output_type": "execute_result",
          "data": {
            "text/plain": [
              "'Chandler'"
            ],
            "application/vnd.google.colaboratory.intrinsic+json": {
              "type": "string"
            }
          },
          "metadata": {},
          "execution_count": 37
        }
      ]
    },
    {
      "cell_type": "code",
      "source": [
        "Family.lastname = 'Poppins' #Family클래스의 lastname클래스변수에 Poppins 할당"
      ],
      "metadata": {
        "id": "n53JOjEjwfe2"
      },
      "execution_count": null,
      "outputs": []
    },
    {
      "cell_type": "code",
      "source": [
        "#11월 5일 (10주차)\n",
        "\n",
        "Family.lastname = 'Poppins'"
      ],
      "metadata": {
        "id": "ebNa2UPzGu93"
      },
      "execution_count": null,
      "outputs": []
    },
    {
      "cell_type": "code",
      "source": [
        "a.lastname"
      ],
      "metadata": {
        "colab": {
          "base_uri": "https://localhost:8080/",
          "height": 35
        },
        "id": "5jP_GKYjzj6X",
        "outputId": "c65e3229-53e6-40c4-a699-c536232045a2"
      },
      "execution_count": null,
      "outputs": [
        {
          "output_type": "execute_result",
          "data": {
            "text/plain": [
              "'Poppins'"
            ],
            "application/vnd.google.colaboratory.intrinsic+json": {
              "type": "string"
            }
          },
          "metadata": {},
          "execution_count": 59
        }
      ]
    },
    {
      "cell_type": "code",
      "source": [
        "#11월 5일 (10주차)\n",
        "\n",
        "a.lastname"
      ],
      "metadata": {
        "id": "fDRHrC0pG4I5",
        "outputId": "6b0b9099-1d99-408e-f8e1-a4031c4ba081",
        "colab": {
          "base_uri": "https://localhost:8080/",
          "height": 35
        }
      },
      "execution_count": null,
      "outputs": [
        {
          "output_type": "execute_result",
          "data": {
            "text/plain": [
              "'Poppins'"
            ],
            "application/vnd.google.colaboratory.intrinsic+json": {
              "type": "string"
            }
          },
          "metadata": {},
          "execution_count": 39
        }
      ]
    },
    {
      "cell_type": "code",
      "source": [
        "b.lastname"
      ],
      "metadata": {
        "colab": {
          "base_uri": "https://localhost:8080/",
          "height": 35
        },
        "id": "JPNa1G3vzl_J",
        "outputId": "22f2cf40-8989-4e72-b641-641d3700ca0e"
      },
      "execution_count": null,
      "outputs": [
        {
          "output_type": "execute_result",
          "data": {
            "text/plain": [
              "'Poppins'"
            ],
            "application/vnd.google.colaboratory.intrinsic+json": {
              "type": "string"
            }
          },
          "metadata": {},
          "execution_count": 60
        }
      ]
    },
    {
      "cell_type": "code",
      "source": [
        "#11월 5일 (10주차)\n",
        "\n",
        "b.lastname"
      ],
      "metadata": {
        "id": "d44CRQ4nG7WB",
        "outputId": "7b71e907-876b-4a5b-e2e0-227764a785d3",
        "colab": {
          "base_uri": "https://localhost:8080/",
          "height": 35
        }
      },
      "execution_count": null,
      "outputs": [
        {
          "output_type": "execute_result",
          "data": {
            "text/plain": [
              "'Poppins'"
            ],
            "application/vnd.google.colaboratory.intrinsic+json": {
              "type": "string"
            }
          },
          "metadata": {},
          "execution_count": 40
        }
      ]
    },
    {
      "cell_type": "markdown",
      "source": [
        "### <font color = 'brown'> 💈 Get more exercises on Python classes!"
      ],
      "metadata": {
        "id": "ygRHdvWDXGyY"
      }
    },
    {
      "cell_type": "code",
      "execution_count": null,
      "metadata": {
        "id": "XKm8hYRNqJE2",
        "outputId": "0dd6aa1c-1cff-485f-dac6-2b79e708d113",
        "colab": {
          "base_uri": "https://localhost:8080/"
        }
      },
      "outputs": [
        {
          "output_type": "stream",
          "name": "stdout",
          "text": [
            "How are you?\n",
            "Emma, see you!\n"
          ]
        }
      ],
      "source": [
        "class Greetings: #독립된 공간을 Class 라고 함\n",
        "  def sayHello(self): #Class Method\n",
        "    print('How are you?')\n",
        "\n",
        "  def sayBye(self,name): #Class Method에서 두 번째 인자로 사용되는 name은 Instant Member\n",
        "    print('%s, see you!' %name)\n",
        "\n",
        "obj = Greetings()\n",
        "\n",
        "obj.sayHello()\n",
        "obj.sayBye('Emma')"
      ]
    },
    {
      "cell_type": "code",
      "source": [
        "#11월 5일 (10주차)\n",
        "\n",
        "class Greatings:\n",
        "  def sayHello(self):\n",
        "    print('How are you?')\n",
        "\n",
        "  def sayBye(self, name):\n",
        "    print('%s, see you!' %name)\n",
        "\n",
        "obj = Greatings()\n",
        "\n",
        "obj.sayHello()\n",
        "obj.sayBye('Emma')"
      ],
      "metadata": {
        "id": "zUy55QCCG9_q",
        "outputId": "72031f9f-8ab7-4e39-fdbb-84d8e08224e9",
        "colab": {
          "base_uri": "https://localhost:8080/"
        }
      },
      "execution_count": null,
      "outputs": [
        {
          "output_type": "stream",
          "name": "stdout",
          "text": [
            "How are you?\n",
            "Emma, see you!\n"
          ]
        }
      ]
    },
    {
      "cell_type": "code",
      "source": [
        "#Caculator.py\n",
        "\n",
        "result = 0 #global variable named result and assigns it the value 0\n",
        "\n",
        "def add(num): # a function named add that takes one parameter, num.\n",
        "  global result #This line declares that within the add function, we intend to use the global variable result. This allows us to modify the global result variable within the function.\n",
        "  result += num # 결괏값(result)에 입력값(num) 더하기: It adds the value of the num parameter to the global result variable. It accumulates the values over multiple function calls, updating the running total.\n",
        "  return result\n",
        "\n",
        "print(add(3))\n",
        "print(add(4))\n",
        "print(add(5))"
      ],
      "metadata": {
        "colab": {
          "base_uri": "https://localhost:8080/"
        },
        "id": "veFGBxXx_eQp",
        "outputId": "ef804dd0-48b5-4b1e-abef-9c6fb8ceaa10"
      },
      "execution_count": null,
      "outputs": [
        {
          "output_type": "stream",
          "name": "stdout",
          "text": [
            "3\n",
            "7\n",
            "12\n"
          ]
        }
      ]
    },
    {
      "cell_type": "code",
      "source": [
        "#11월 5일 (10주차)\n",
        "\n",
        "result = 0      #원하는 값을 할당\n",
        "\n",
        "def add(num):\n",
        "  global result\n",
        "  result += num\n",
        "  return result\n",
        "\n",
        "print(add(3))\n",
        "print(add(4))\n",
        "print(add(5))"
      ],
      "metadata": {
        "id": "BZZx0tElHshA",
        "outputId": "3d2bc05c-99cf-47bd-bf48-e3518e22e101",
        "colab": {
          "base_uri": "https://localhost:8080/"
        }
      },
      "execution_count": null,
      "outputs": [
        {
          "output_type": "stream",
          "name": "stdout",
          "text": [
            "3\n",
            "7\n",
            "12\n"
          ]
        }
      ]
    },
    {
      "cell_type": "code",
      "source": [
        "class Calculator:\n",
        "    def initialize(self): #The initialize method is used to set the initial value of self.result to 0\n",
        "        self.result = 0\n",
        "\n",
        "    def add(self, num):\n",
        "        self.result += num\n",
        "        return self.result\n",
        "\n",
        "    def sub(self, num):\n",
        "        self.result -= num\n",
        "        return self.result\n",
        "\n",
        "# Create an instance of the Calculator class\n",
        "calc = Calculator()\n",
        "\n",
        "# Initialize the calculator's result\n",
        "calc.initialize()\n",
        "\n",
        "# Perform addition and subtraction\n",
        "result_add = calc.add(8)\n",
        "result_sub = calc.sub(3)\n",
        "\n",
        "print(result_add)\n",
        "print(result_sub)"
      ],
      "metadata": {
        "colab": {
          "base_uri": "https://localhost:8080/"
        },
        "id": "M-bvTQUzABlR",
        "outputId": "06c04252-0851-47cf-be1a-8ef0a7bada6f"
      },
      "execution_count": null,
      "outputs": [
        {
          "output_type": "stream",
          "name": "stdout",
          "text": [
            "8\n",
            "5\n"
          ]
        }
      ]
    },
    {
      "cell_type": "code",
      "source": [
        "#11월 5일 (10주차)\n",
        "\n",
        "class Calculator:\n",
        "  def initialize(self):\n",
        "    self.result = 0\n",
        "\n",
        "  def add(self, num):\n",
        "    self.result += num\n",
        "    return self.result\n",
        "\n",
        "  def sub(self, num):\n",
        "    self.result -= num\n",
        "    return self.result\n",
        "\n",
        "calc = Calculator()\n",
        "\n",
        "calc.initialize()\n",
        "\n",
        "result_add = calc.add(8)\n",
        "result_sub = calc.sub(3)\n",
        "\n",
        "print(result_add)\n",
        "print(result_sub)"
      ],
      "metadata": {
        "id": "q63VLh05I3B8",
        "outputId": "6c27ed74-d114-408f-e9f9-b7f9c8f99791",
        "colab": {
          "base_uri": "https://localhost:8080/"
        }
      },
      "execution_count": null,
      "outputs": [
        {
          "output_type": "stream",
          "name": "stdout",
          "text": [
            "8\n",
            "5\n"
          ]
        }
      ]
    },
    {
      "cell_type": "markdown",
      "source": [
        "### ⤵️ **Function as a argument**\n",
        "\n",
        "Inseting obj.method() as an argument of the print() function, which is alternative to assining obj.method() (e.g., calc.add(); calc.sub()) to a variable name."
      ],
      "metadata": {
        "id": "ORZmv4eR7Ylr"
      }
    },
    {
      "cell_type": "code",
      "source": [
        "class Calculator:\n",
        "    def initialize(self): #The initialize method is used to set the initial value of self.result to 0\n",
        "        self.result = 0\n",
        "\n",
        "    def add(self, num):\n",
        "        self.result += num\n",
        "        return self.result\n",
        "\n",
        "    def sub(self, num):\n",
        "        self.result -= num\n",
        "        return self.result\n",
        "\n",
        "# Create an instance of the Calculator class\n",
        "calc = Calculator()\n",
        "\n",
        "# Initialize the calculator's result\n",
        "calc.initialize()\n",
        "\n",
        "# Perform additions and subtractions in sequnce\n",
        "\n",
        "print(calc.add(8))\n",
        "print(calc.sub(3))\n",
        "print(calc.add(10))\n",
        "print(calc.sub(25))"
      ],
      "metadata": {
        "id": "3R-r_CZX7Wub",
        "outputId": "baf23fa6-4e32-4b32-ceb1-edf7033bb63f",
        "colab": {
          "base_uri": "https://localhost:8080/"
        }
      },
      "execution_count": null,
      "outputs": [
        {
          "output_type": "stream",
          "name": "stdout",
          "text": [
            "8\n",
            "5\n",
            "15\n",
            "-10\n"
          ]
        }
      ]
    },
    {
      "cell_type": "code",
      "source": [
        "#11월 5일 (10주차)\n",
        "\n",
        "class Calculator:\n",
        "  def initialize(self):\n",
        "    self.result = 0\n",
        "\n",
        "  def add(self, num):\n",
        "    self.result += num\n",
        "    return self.result\n",
        "\n",
        "  def sub(self, num):\n",
        "    self.result -= num\n",
        "    return self.result\n",
        "\n",
        "calc = Calculator()\n",
        "\n",
        "calc.initialize()\n",
        "\n",
        "print(calc.add(8))\n",
        "print(calc.sub(3))\n",
        "print(calc.add(10))\n",
        "print(calc.sub(25))"
      ],
      "metadata": {
        "id": "3-xLwIUVKT0i",
        "outputId": "192712f1-39d3-4713-f226-febfd9af03da",
        "colab": {
          "base_uri": "https://localhost:8080/"
        }
      },
      "execution_count": null,
      "outputs": [
        {
          "output_type": "stream",
          "name": "stdout",
          "text": [
            "8\n",
            "5\n",
            "15\n",
            "-10\n"
          ]
        }
      ]
    },
    {
      "cell_type": "markdown",
      "source": [
        "## 🔥🐹🐶🐤🐭 <font color = 'organge'>**Find a basic Python textbook, read and exercise the content about classes thoroughly!**"
      ],
      "metadata": {
        "id": "7uJOQwpb-IpM"
      }
    }
  ]
}