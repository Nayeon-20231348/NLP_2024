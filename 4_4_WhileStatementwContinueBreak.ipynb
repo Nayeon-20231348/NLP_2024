{
  "nbformat": 4,
  "nbformat_minor": 0,
  "metadata": {
    "colab": {
      "provenance": [],
      "include_colab_link": true
    },
    "kernelspec": {
      "name": "python3",
      "display_name": "Python 3"
    },
    "language_info": {
      "name": "python"
    }
  },
  "cells": [
    {
      "cell_type": "markdown",
      "metadata": {
        "id": "view-in-github",
        "colab_type": "text"
      },
      "source": [
        "<a href=\"https://colab.research.google.com/github/Nayeon-20231348/NLP_2024/blob/main/4_4_WhileStatementwContinueBreak.ipynb\" target=\"_parent\"><img src=\"https://colab.research.google.com/assets/colab-badge.svg\" alt=\"Open In Colab\"/></a>"
      ]
    },
    {
      "cell_type": "markdown",
      "source": [
        "# 🅰️ ➿ **While statement 🔄 Loop**\n",
        "\n",
        "- It executes repeatedly a block of code <font color = 'red'> as long as a certain condition is true.\n",
        "  - It creates loops where you want to perform a task repeatedly <font color = 'red'> until a specified condition becomes false."
      ],
      "metadata": {
        "id": "DR869DSG8AZi"
      }
    },
    {
      "cell_type": "markdown",
      "source": [
        "While Statement 1"
      ],
      "metadata": {
        "id": "6nqSBDMttgFS"
      }
    },
    {
      "cell_type": "markdown",
      "source": [
        "#### ⏳ <font color = 'blue'> Using the same variable name for simplicity and clarity is preferred, especially in situations like loops where the purpose of the variable is clear and consistent.\n",
        "\n",
        "e.g., count +=1\n",
        "- In Python, the assignment statement counter += 1 is a shorthand notation for counter = counter + 1. Here, the variable counter is being incremented by 1, and the result is assigned back to the same variable counter."
      ],
      "metadata": {
        "id": "N-4xWtfuZl6O"
      }
    },
    {
      "cell_type": "code",
      "source": [
        "counter = 1  # Initialize a counter variable\n",
        "\n",
        "while counter <= 5:  # Condition: Continue while counter is less than or equal to 5\n",
        "    print(counter)  # Print the current value of the counter\n",
        "    counter += 1  # Increment the counter by 1 in each iteration (i.e., counter = counter +1)\n",
        "\n",
        "\n",
        "print(\"Loop finished!\")"
      ],
      "metadata": {
        "colab": {
          "base_uri": "https://localhost:8080/"
        },
        "id": "HBQ4o4AitM6k",
        "outputId": "2a94943b-c783-4acf-ab67-d3ba6bb74b42"
      },
      "execution_count": 2,
      "outputs": [
        {
          "output_type": "stream",
          "name": "stdout",
          "text": [
            "1\n",
            "2\n",
            "3\n",
            "4\n",
            "5\n",
            "Loop finished!\n"
          ]
        }
      ]
    },
    {
      "cell_type": "code",
      "source": [
        "counter = 1\n",
        "\n",
        "while counter <= 5:\n",
        "  print(counter)\n",
        "  counter += 1     #counter를 반복할 때마다 1씩 증가\n",
        "\n",
        "print(\"Loop finished!!\")"
      ],
      "metadata": {
        "id": "w8-PmSPXYUuv",
        "outputId": "8720edb1-4dfb-4f87-8770-1e945cc824d3",
        "colab": {
          "base_uri": "https://localhost:8080/"
        }
      },
      "execution_count": 4,
      "outputs": [
        {
          "output_type": "stream",
          "name": "stdout",
          "text": [
            "1\n",
            "2\n",
            "3\n",
            "4\n",
            "5\n",
            "Loop finished!!\n"
          ]
        }
      ]
    },
    {
      "cell_type": "markdown",
      "source": [
        "One more exercise for a shorthand notation"
      ],
      "metadata": {
        "id": "JcyhHJ87afoP"
      }
    },
    {
      "cell_type": "code",
      "source": [
        "x = 5\n",
        "x *= 2  # Equivalent to: x = x * 2\n",
        "print(x)  # Output: 10"
      ],
      "metadata": {
        "colab": {
          "base_uri": "https://localhost:8080/"
        },
        "id": "w-X5NPBWagIV",
        "outputId": "81c6a990-4c33-41ed-ae29-531a02022c29"
      },
      "execution_count": null,
      "outputs": [
        {
          "output_type": "stream",
          "name": "stdout",
          "text": [
            "10\n"
          ]
        }
      ]
    },
    {
      "cell_type": "code",
      "source": [
        "x = 5\n",
        "x *= 2\n",
        "print(x)     # x = x(기존 x값) * 2"
      ],
      "metadata": {
        "id": "6pUYYIriZB67",
        "outputId": "489944df-5d9d-442c-b2af-0a8505457585",
        "colab": {
          "base_uri": "https://localhost:8080/"
        }
      },
      "execution_count": 6,
      "outputs": [
        {
          "output_type": "stream",
          "name": "stdout",
          "text": [
            "10\n"
          ]
        }
      ]
    },
    {
      "cell_type": "code",
      "source": [
        "y = 3\n",
        "y *= 10\n",
        "print(y)"
      ],
      "metadata": {
        "id": "FNUEb87IZeI3",
        "outputId": "c0661ac9-92ec-42b7-9d62-546cca60a3d9",
        "colab": {
          "base_uri": "https://localhost:8080/"
        }
      },
      "execution_count": 8,
      "outputs": [
        {
          "output_type": "stream",
          "name": "stdout",
          "text": [
            "30\n"
          ]
        }
      ]
    }
  ]
}